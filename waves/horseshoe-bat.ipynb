{
 "cells": [
  {
   "cell_type": "markdown",
   "metadata": {},
   "source": [
    "\n",
    "Some trivial calculation relating to the horseshoe bat example in Dawkins's book _The Blind Watchmaker_. \n",
    "\n",
    "Since $f = 1/T$ and $v = \\lambda f$, we have\n",
    "\n",
    "$$\n",
    "\\frac{f'}{f} = \\frac{T}{T'}\n",
    "$$\n",
    "\n",
    "and\n",
    "\n",
    "$$\n",
    "\\frac{f'}{f} = \\frac{\\lambda}{\\lambda'}\n",
    "$$\n",
    "\n",
    "\n",
    "Sound emitting from the bat:\n",
    "\n",
    "$$\n",
    "\\frac{f'}{f} = \\frac{\\lambda}{\\lambda - \\lambda/C \\cdot v} = \\frac{C}{C-v}\n",
    "$$\n",
    "\n",
    "Sound reflected from the tree:\n",
    "\n",
    "$$\n",
    "\\frac{f''}{f'} = \\frac{T'}{T''} = \\frac{\\lambda'/C}{\\lambda'/(C+v)} = \\frac{C+v}{C}\n",
    "$$\n",
    "\n",
    "Sound reaching the bat's auditory system while its ears are facing backward:\n",
    "\n",
    "$$\n",
    "\\frac{f'''}{f''} = \\frac{T''}{T'''} = \\frac{\\lambda''/C}{\\lambda''/(C-v)} = \\frac{C-v}{C}\n",
    "$$\n",
    "\n",
    "Hence we have\n",
    "\n",
    "$$\n",
    "\\frac{f''}{f} = \\frac{C+v}{C-v}\n",
    "$$\n",
    "\n",
    "and\n",
    "\n",
    "$$\n",
    "\\frac{f'''}{f} = \\frac{C+v}{C}\n",
    "$$\n"
   ]
  }
 ],
 "metadata": {
  "kernelspec": {
   "display_name": "Python 2",
   "language": "python",
   "name": "python2"
  },
  "language_info": {
   "codemirror_mode": {
    "name": "ipython",
    "version": 2
   },
   "file_extension": ".py",
   "mimetype": "text/x-python",
   "name": "python",
   "nbconvert_exporter": "python",
   "pygments_lexer": "ipython2",
   "version": "2.7.12"
  }
 },
 "nbformat": 4,
 "nbformat_minor": 1
}
